{
 "cells": [
  {
   "cell_type": "markdown",
   "id": "8e7c3197-0b3e-44b4-9501-0e7151f7c2e7",
   "metadata": {},
   "source": [
    "# Here is my notebook"
   ]
  },
  {
   "cell_type": "code",
   "execution_count": null,
   "id": "35cc18be-21ee-452f-b2e4-2b63ea6514b4",
   "metadata": {},
   "outputs": [],
   "source": [
    "import this"
   ]
  },
  {
   "cell_type": "code",
   "execution_count": null,
   "id": "6d4760ad-c37a-4c76-808a-c04ec76be8f4",
   "metadata": {},
   "outputs": [],
   "source": [
    "x = 10\n",
    "\n",
    "print(f\"{x=}\")\n"
   ]
  },
  {
   "cell_type": "code",
   "execution_count": null,
   "id": "dacd58ca-1c47-430f-b015-2a3a0bd1944b",
   "metadata": {},
   "outputs": [],
   "source": []
  }
 ],
 "metadata": {
  "kernelspec": {
   "display_name": "Python 3 (ipykernel)",
   "language": "python",
   "name": "python3"
  },
  "language_info": {
   "codemirror_mode": {
    "name": "ipython",
    "version": 3
   },
   "file_extension": ".py",
   "mimetype": "text/x-python",
   "name": "python",
   "nbconvert_exporter": "python",
   "pygments_lexer": "ipython3",
   "version": "3.10.0"
  }
 },
 "nbformat": 4,
 "nbformat_minor": 5
}
